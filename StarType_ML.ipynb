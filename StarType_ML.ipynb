{
  "nbformat": 4,
  "nbformat_minor": 0,
  "metadata": {
    "colab": {
      "name": "StarType_DM_Assignment.ipynb",
      "provenance": [],
      "collapsed_sections": []
    },
    "kernelspec": {
      "name": "python3",
      "display_name": "Python 3"
    },
    "language_info": {
      "name": "python"
    }
  },
  "cells": [
    {
      "cell_type": "markdown",
      "metadata": {
        "id": "xz0RrlHQi5B3"
      },
      "source": [
        "# Star dataset has been used.\n",
        "# Aim is to predict the star type."
      ]
    },
    {
      "cell_type": "markdown",
      "metadata": {
        "id": "qEXUxrpwju_M"
      },
      "source": [
        "Importing packages:"
      ]
    },
    {
      "cell_type": "code",
      "metadata": {
        "id": "8gh6dEC01u5e"
      },
      "source": [
        "import numpy as np\n",
        "import matplotlib.pyplot as plt\n",
        "import pandas as pd\n",
        "import io"
      ],
      "execution_count": null,
      "outputs": []
    },
    {
      "cell_type": "markdown",
      "metadata": {
        "id": "G4LqTCmmj2Cv"
      },
      "source": [
        "Uploading the dataset:"
      ]
    },
    {
      "cell_type": "code",
      "metadata": {
        "colab": {
          "resources": {
            "http://localhost:8080/nbextensions/google.colab/files.js": {
              "data": "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",
              "ok": true,
              "headers": [
                [
                  "content-type",
                  "application/javascript"
                ]
              ],
              "status": 200,
              "status_text": ""
            }
          },
          "base_uri": "https://localhost:8080/",
          "height": 73
        },
        "id": "Ghp9jKMj7UbM",
        "outputId": "188b3511-f221-4b3a-a1a5-da5829378d66"
      },
      "source": [
        "from google.colab import files\n",
        "uploaded = files.upload()"
      ],
      "execution_count": null,
      "outputs": [
        {
          "output_type": "display_data",
          "data": {
            "text/html": [
              "\n",
              "     <input type=\"file\" id=\"files-d98bc702-41c0-4fa9-a506-f124591118db\" name=\"files[]\" multiple disabled\n",
              "        style=\"border:none\" />\n",
              "     <output id=\"result-d98bc702-41c0-4fa9-a506-f124591118db\">\n",
              "      Upload widget is only available when the cell has been executed in the\n",
              "      current browser session. Please rerun this cell to enable.\n",
              "      </output>\n",
              "      <script src=\"/nbextensions/google.colab/files.js\"></script> "
            ],
            "text/plain": [
              "<IPython.core.display.HTML object>"
            ]
          },
          "metadata": {}
        },
        {
          "output_type": "stream",
          "name": "stdout",
          "text": [
            "Saving StarData.csv to StarData (1).csv\n"
          ]
        }
      ]
    },
    {
      "cell_type": "markdown",
      "metadata": {
        "id": "wTxKxCoUj_UH"
      },
      "source": [
        "Reading dataset:"
      ]
    },
    {
      "cell_type": "code",
      "metadata": {
        "colab": {
          "base_uri": "https://localhost:8080/"
        },
        "id": "QjGkXO-h7icH",
        "outputId": "1fffef49-50e8-4348-ea5e-d662859b97d5"
      },
      "source": [
        "dataset = pd.read_csv('StarData.csv')\n",
        "print(dataset)"
      ],
      "execution_count": null,
      "outputs": [
        {
          "output_type": "stream",
          "name": "stdout",
          "text": [
            "     Temperature (K)  Luminosity(L/Lo)  ...  Spectral Class  Star type\n",
            "0               3068          0.002400  ...               M          0\n",
            "1               3042          0.000500  ...               M          0\n",
            "2               2600          0.000300  ...               M          0\n",
            "3               2800          0.000200  ...               M          0\n",
            "4               1939          0.000138  ...               M          0\n",
            "..               ...               ...  ...             ...        ...\n",
            "235            38940     374830.000000  ...               O          5\n",
            "236            30839     834042.000000  ...               O          5\n",
            "237             8829     537493.000000  ...               A          5\n",
            "238             9235     404940.000000  ...               A          5\n",
            "239            37882     294903.000000  ...               O          5\n",
            "\n",
            "[240 rows x 7 columns]\n"
          ]
        }
      ]
    },
    {
      "cell_type": "markdown",
      "metadata": {
        "id": "8ceN-Ey1kJG_"
      },
      "source": [
        "Dataset overview:"
      ]
    },
    {
      "cell_type": "code",
      "metadata": {
        "colab": {
          "base_uri": "https://localhost:8080/",
          "height": 203
        },
        "id": "Til6O2Ed4FGZ",
        "outputId": "ec80fc1f-00ae-4ada-e371-0106bfde2699"
      },
      "source": [
        "dataset.head()"
      ],
      "execution_count": null,
      "outputs": [
        {
          "output_type": "execute_result",
          "data": {
            "text/html": [
              "<div>\n",
              "<style scoped>\n",
              "    .dataframe tbody tr th:only-of-type {\n",
              "        vertical-align: middle;\n",
              "    }\n",
              "\n",
              "    .dataframe tbody tr th {\n",
              "        vertical-align: top;\n",
              "    }\n",
              "\n",
              "    .dataframe thead th {\n",
              "        text-align: right;\n",
              "    }\n",
              "</style>\n",
              "<table border=\"1\" class=\"dataframe\">\n",
              "  <thead>\n",
              "    <tr style=\"text-align: right;\">\n",
              "      <th></th>\n",
              "      <th>Temperature (K)</th>\n",
              "      <th>Luminosity(L/Lo)</th>\n",
              "      <th>Radius(R/Ro)</th>\n",
              "      <th>Absolute magnitude(Mv)</th>\n",
              "      <th>Star color</th>\n",
              "      <th>Spectral Class</th>\n",
              "      <th>Star type</th>\n",
              "    </tr>\n",
              "  </thead>\n",
              "  <tbody>\n",
              "    <tr>\n",
              "      <th>0</th>\n",
              "      <td>3068</td>\n",
              "      <td>0.002400</td>\n",
              "      <td>0.1700</td>\n",
              "      <td>16.12</td>\n",
              "      <td>Red</td>\n",
              "      <td>M</td>\n",
              "      <td>0</td>\n",
              "    </tr>\n",
              "    <tr>\n",
              "      <th>1</th>\n",
              "      <td>3042</td>\n",
              "      <td>0.000500</td>\n",
              "      <td>0.1542</td>\n",
              "      <td>16.60</td>\n",
              "      <td>Red</td>\n",
              "      <td>M</td>\n",
              "      <td>0</td>\n",
              "    </tr>\n",
              "    <tr>\n",
              "      <th>2</th>\n",
              "      <td>2600</td>\n",
              "      <td>0.000300</td>\n",
              "      <td>0.1020</td>\n",
              "      <td>18.70</td>\n",
              "      <td>Red</td>\n",
              "      <td>M</td>\n",
              "      <td>0</td>\n",
              "    </tr>\n",
              "    <tr>\n",
              "      <th>3</th>\n",
              "      <td>2800</td>\n",
              "      <td>0.000200</td>\n",
              "      <td>0.1600</td>\n",
              "      <td>16.65</td>\n",
              "      <td>Red</td>\n",
              "      <td>M</td>\n",
              "      <td>0</td>\n",
              "    </tr>\n",
              "    <tr>\n",
              "      <th>4</th>\n",
              "      <td>1939</td>\n",
              "      <td>0.000138</td>\n",
              "      <td>0.1030</td>\n",
              "      <td>20.06</td>\n",
              "      <td>Red</td>\n",
              "      <td>M</td>\n",
              "      <td>0</td>\n",
              "    </tr>\n",
              "  </tbody>\n",
              "</table>\n",
              "</div>"
            ],
            "text/plain": [
              "   Temperature (K)  Luminosity(L/Lo)  ...  Spectral Class  Star type\n",
              "0             3068          0.002400  ...               M          0\n",
              "1             3042          0.000500  ...               M          0\n",
              "2             2600          0.000300  ...               M          0\n",
              "3             2800          0.000200  ...               M          0\n",
              "4             1939          0.000138  ...               M          0\n",
              "\n",
              "[5 rows x 7 columns]"
            ]
          },
          "metadata": {},
          "execution_count": 67
        }
      ]
    },
    {
      "cell_type": "code",
      "metadata": {
        "colab": {
          "base_uri": "https://localhost:8080/"
        },
        "id": "bHp7FOo5D3wv",
        "outputId": "f5838eba-3b7d-4b54-fff1-778925b6106c"
      },
      "source": [
        "dataset.info()"
      ],
      "execution_count": null,
      "outputs": [
        {
          "output_type": "stream",
          "name": "stdout",
          "text": [
            "<class 'pandas.core.frame.DataFrame'>\n",
            "RangeIndex: 240 entries, 0 to 239\n",
            "Data columns (total 7 columns):\n",
            " #   Column                  Non-Null Count  Dtype  \n",
            "---  ------                  --------------  -----  \n",
            " 0   Temperature (K)         240 non-null    int64  \n",
            " 1   Luminosity(L/Lo)        240 non-null    float64\n",
            " 2   Radius(R/Ro)            240 non-null    float64\n",
            " 3   Absolute magnitude(Mv)  240 non-null    float64\n",
            " 4   Star color              240 non-null    object \n",
            " 5   Spectral Class          240 non-null    object \n",
            " 6   Star type               240 non-null    int64  \n",
            "dtypes: float64(3), int64(2), object(2)\n",
            "memory usage: 13.2+ KB\n"
          ]
        }
      ]
    },
    {
      "cell_type": "markdown",
      "metadata": {
        "id": "qkfZ1UQ2Rjxe"
      },
      "source": [
        "# Preprocessing - preparing dataset for training and testing: \n"
      ]
    },
    {
      "cell_type": "code",
      "metadata": {
        "colab": {
          "base_uri": "https://localhost:8080/"
        },
        "id": "RKcw2SBbRnhG",
        "outputId": "fc248fcd-adeb-440d-b87f-93a348537445"
      },
      "source": [
        "dataset.isnull().any()"
      ],
      "execution_count": null,
      "outputs": [
        {
          "output_type": "execute_result",
          "data": {
            "text/plain": [
              "Temperature (K)           False\n",
              "Luminosity(L/Lo)          False\n",
              "Radius(R/Ro)              False\n",
              "Absolute magnitude(Mv)    False\n",
              "Star color                False\n",
              "Spectral Class            False\n",
              "Star type                 False\n",
              "dtype: bool"
            ]
          },
          "metadata": {},
          "execution_count": 69
        }
      ]
    },
    {
      "cell_type": "code",
      "metadata": {
        "id": "CST0i4Vzd0mO"
      },
      "source": [
        "from sklearn.preprocessing import LabelEncoder\n",
        "le = LabelEncoder()"
      ],
      "execution_count": null,
      "outputs": []
    },
    {
      "cell_type": "code",
      "metadata": {
        "id": "k3RIpkzdd3CJ"
      },
      "source": [
        "dataset[\"Star color\"] = le.fit_transform(dataset[\"Star color\"])"
      ],
      "execution_count": null,
      "outputs": []
    },
    {
      "cell_type": "code",
      "metadata": {
        "colab": {
          "base_uri": "https://localhost:8080/",
          "height": 417
        },
        "id": "cpfb5kQBegLX",
        "outputId": "26cd8c47-d64b-429a-8956-2697d6e9fcdd"
      },
      "source": [
        "dataset.head(100)"
      ],
      "execution_count": null,
      "outputs": [
        {
          "output_type": "execute_result",
          "data": {
            "text/html": [
              "<div>\n",
              "<style scoped>\n",
              "    .dataframe tbody tr th:only-of-type {\n",
              "        vertical-align: middle;\n",
              "    }\n",
              "\n",
              "    .dataframe tbody tr th {\n",
              "        vertical-align: top;\n",
              "    }\n",
              "\n",
              "    .dataframe thead th {\n",
              "        text-align: right;\n",
              "    }\n",
              "</style>\n",
              "<table border=\"1\" class=\"dataframe\">\n",
              "  <thead>\n",
              "    <tr style=\"text-align: right;\">\n",
              "      <th></th>\n",
              "      <th>Temperature (K)</th>\n",
              "      <th>Luminosity(L/Lo)</th>\n",
              "      <th>Radius(R/Ro)</th>\n",
              "      <th>Absolute magnitude(Mv)</th>\n",
              "      <th>Star color</th>\n",
              "      <th>Spectral Class</th>\n",
              "      <th>Star type</th>\n",
              "    </tr>\n",
              "  </thead>\n",
              "  <tbody>\n",
              "    <tr>\n",
              "      <th>0</th>\n",
              "      <td>3068</td>\n",
              "      <td>0.002400</td>\n",
              "      <td>0.1700</td>\n",
              "      <td>16.12</td>\n",
              "      <td>10</td>\n",
              "      <td>M</td>\n",
              "      <td>0</td>\n",
              "    </tr>\n",
              "    <tr>\n",
              "      <th>1</th>\n",
              "      <td>3042</td>\n",
              "      <td>0.000500</td>\n",
              "      <td>0.1542</td>\n",
              "      <td>16.60</td>\n",
              "      <td>10</td>\n",
              "      <td>M</td>\n",
              "      <td>0</td>\n",
              "    </tr>\n",
              "    <tr>\n",
              "      <th>2</th>\n",
              "      <td>2600</td>\n",
              "      <td>0.000300</td>\n",
              "      <td>0.1020</td>\n",
              "      <td>18.70</td>\n",
              "      <td>10</td>\n",
              "      <td>M</td>\n",
              "      <td>0</td>\n",
              "    </tr>\n",
              "    <tr>\n",
              "      <th>3</th>\n",
              "      <td>2800</td>\n",
              "      <td>0.000200</td>\n",
              "      <td>0.1600</td>\n",
              "      <td>16.65</td>\n",
              "      <td>10</td>\n",
              "      <td>M</td>\n",
              "      <td>0</td>\n",
              "    </tr>\n",
              "    <tr>\n",
              "      <th>4</th>\n",
              "      <td>1939</td>\n",
              "      <td>0.000138</td>\n",
              "      <td>0.1030</td>\n",
              "      <td>20.06</td>\n",
              "      <td>10</td>\n",
              "      <td>M</td>\n",
              "      <td>0</td>\n",
              "    </tr>\n",
              "    <tr>\n",
              "      <th>...</th>\n",
              "      <td>...</td>\n",
              "      <td>...</td>\n",
              "      <td>...</td>\n",
              "      <td>...</td>\n",
              "      <td>...</td>\n",
              "      <td>...</td>\n",
              "      <td>...</td>\n",
              "    </tr>\n",
              "    <tr>\n",
              "      <th>95</th>\n",
              "      <td>11250</td>\n",
              "      <td>672.000000</td>\n",
              "      <td>6.9800</td>\n",
              "      <td>-2.30</td>\n",
              "      <td>6</td>\n",
              "      <td>A</td>\n",
              "      <td>3</td>\n",
              "    </tr>\n",
              "    <tr>\n",
              "      <th>96</th>\n",
              "      <td>5112</td>\n",
              "      <td>0.630000</td>\n",
              "      <td>0.8760</td>\n",
              "      <td>4.68</td>\n",
              "      <td>8</td>\n",
              "      <td>K</td>\n",
              "      <td>3</td>\n",
              "    </tr>\n",
              "    <tr>\n",
              "      <th>97</th>\n",
              "      <td>7720</td>\n",
              "      <td>7.920000</td>\n",
              "      <td>1.3400</td>\n",
              "      <td>2.44</td>\n",
              "      <td>17</td>\n",
              "      <td>F</td>\n",
              "      <td>3</td>\n",
              "    </tr>\n",
              "    <tr>\n",
              "      <th>98</th>\n",
              "      <td>12098</td>\n",
              "      <td>689.000000</td>\n",
              "      <td>7.0100</td>\n",
              "      <td>0.02</td>\n",
              "      <td>6</td>\n",
              "      <td>A</td>\n",
              "      <td>3</td>\n",
              "    </tr>\n",
              "    <tr>\n",
              "      <th>99</th>\n",
              "      <td>36108</td>\n",
              "      <td>198000.000000</td>\n",
              "      <td>10.2000</td>\n",
              "      <td>-4.40</td>\n",
              "      <td>0</td>\n",
              "      <td>O</td>\n",
              "      <td>3</td>\n",
              "    </tr>\n",
              "  </tbody>\n",
              "</table>\n",
              "<p>100 rows × 7 columns</p>\n",
              "</div>"
            ],
            "text/plain": [
              "    Temperature (K)  Luminosity(L/Lo)  ...  Spectral Class  Star type\n",
              "0              3068          0.002400  ...               M          0\n",
              "1              3042          0.000500  ...               M          0\n",
              "2              2600          0.000300  ...               M          0\n",
              "3              2800          0.000200  ...               M          0\n",
              "4              1939          0.000138  ...               M          0\n",
              "..              ...               ...  ...             ...        ...\n",
              "95            11250        672.000000  ...               A          3\n",
              "96             5112          0.630000  ...               K          3\n",
              "97             7720          7.920000  ...               F          3\n",
              "98            12098        689.000000  ...               A          3\n",
              "99            36108     198000.000000  ...               O          3\n",
              "\n",
              "[100 rows x 7 columns]"
            ]
          },
          "metadata": {},
          "execution_count": 72
        }
      ]
    },
    {
      "cell_type": "code",
      "metadata": {
        "id": "-Ac227-QeuE3"
      },
      "source": [
        "dataset[\"Spectral Class\"] = le.fit_transform(dataset[\"Spectral Class\"])"
      ],
      "execution_count": null,
      "outputs": []
    },
    {
      "cell_type": "code",
      "metadata": {
        "colab": {
          "base_uri": "https://localhost:8080/",
          "height": 417
        },
        "id": "lM9yZUvSe4nU",
        "outputId": "8207c456-4a52-4b39-b922-e18006637b28"
      },
      "source": [
        "dataset.head(100)"
      ],
      "execution_count": null,
      "outputs": [
        {
          "output_type": "execute_result",
          "data": {
            "text/html": [
              "<div>\n",
              "<style scoped>\n",
              "    .dataframe tbody tr th:only-of-type {\n",
              "        vertical-align: middle;\n",
              "    }\n",
              "\n",
              "    .dataframe tbody tr th {\n",
              "        vertical-align: top;\n",
              "    }\n",
              "\n",
              "    .dataframe thead th {\n",
              "        text-align: right;\n",
              "    }\n",
              "</style>\n",
              "<table border=\"1\" class=\"dataframe\">\n",
              "  <thead>\n",
              "    <tr style=\"text-align: right;\">\n",
              "      <th></th>\n",
              "      <th>Temperature (K)</th>\n",
              "      <th>Luminosity(L/Lo)</th>\n",
              "      <th>Radius(R/Ro)</th>\n",
              "      <th>Absolute magnitude(Mv)</th>\n",
              "      <th>Star color</th>\n",
              "      <th>Spectral Class</th>\n",
              "      <th>Star type</th>\n",
              "    </tr>\n",
              "  </thead>\n",
              "  <tbody>\n",
              "    <tr>\n",
              "      <th>0</th>\n",
              "      <td>3068</td>\n",
              "      <td>0.002400</td>\n",
              "      <td>0.1700</td>\n",
              "      <td>16.12</td>\n",
              "      <td>10</td>\n",
              "      <td>5</td>\n",
              "      <td>0</td>\n",
              "    </tr>\n",
              "    <tr>\n",
              "      <th>1</th>\n",
              "      <td>3042</td>\n",
              "      <td>0.000500</td>\n",
              "      <td>0.1542</td>\n",
              "      <td>16.60</td>\n",
              "      <td>10</td>\n",
              "      <td>5</td>\n",
              "      <td>0</td>\n",
              "    </tr>\n",
              "    <tr>\n",
              "      <th>2</th>\n",
              "      <td>2600</td>\n",
              "      <td>0.000300</td>\n",
              "      <td>0.1020</td>\n",
              "      <td>18.70</td>\n",
              "      <td>10</td>\n",
              "      <td>5</td>\n",
              "      <td>0</td>\n",
              "    </tr>\n",
              "    <tr>\n",
              "      <th>3</th>\n",
              "      <td>2800</td>\n",
              "      <td>0.000200</td>\n",
              "      <td>0.1600</td>\n",
              "      <td>16.65</td>\n",
              "      <td>10</td>\n",
              "      <td>5</td>\n",
              "      <td>0</td>\n",
              "    </tr>\n",
              "    <tr>\n",
              "      <th>4</th>\n",
              "      <td>1939</td>\n",
              "      <td>0.000138</td>\n",
              "      <td>0.1030</td>\n",
              "      <td>20.06</td>\n",
              "      <td>10</td>\n",
              "      <td>5</td>\n",
              "      <td>0</td>\n",
              "    </tr>\n",
              "    <tr>\n",
              "      <th>...</th>\n",
              "      <td>...</td>\n",
              "      <td>...</td>\n",
              "      <td>...</td>\n",
              "      <td>...</td>\n",
              "      <td>...</td>\n",
              "      <td>...</td>\n",
              "      <td>...</td>\n",
              "    </tr>\n",
              "    <tr>\n",
              "      <th>95</th>\n",
              "      <td>11250</td>\n",
              "      <td>672.000000</td>\n",
              "      <td>6.9800</td>\n",
              "      <td>-2.30</td>\n",
              "      <td>6</td>\n",
              "      <td>0</td>\n",
              "      <td>3</td>\n",
              "    </tr>\n",
              "    <tr>\n",
              "      <th>96</th>\n",
              "      <td>5112</td>\n",
              "      <td>0.630000</td>\n",
              "      <td>0.8760</td>\n",
              "      <td>4.68</td>\n",
              "      <td>8</td>\n",
              "      <td>4</td>\n",
              "      <td>3</td>\n",
              "    </tr>\n",
              "    <tr>\n",
              "      <th>97</th>\n",
              "      <td>7720</td>\n",
              "      <td>7.920000</td>\n",
              "      <td>1.3400</td>\n",
              "      <td>2.44</td>\n",
              "      <td>17</td>\n",
              "      <td>2</td>\n",
              "      <td>3</td>\n",
              "    </tr>\n",
              "    <tr>\n",
              "      <th>98</th>\n",
              "      <td>12098</td>\n",
              "      <td>689.000000</td>\n",
              "      <td>7.0100</td>\n",
              "      <td>0.02</td>\n",
              "      <td>6</td>\n",
              "      <td>0</td>\n",
              "      <td>3</td>\n",
              "    </tr>\n",
              "    <tr>\n",
              "      <th>99</th>\n",
              "      <td>36108</td>\n",
              "      <td>198000.000000</td>\n",
              "      <td>10.2000</td>\n",
              "      <td>-4.40</td>\n",
              "      <td>0</td>\n",
              "      <td>6</td>\n",
              "      <td>3</td>\n",
              "    </tr>\n",
              "  </tbody>\n",
              "</table>\n",
              "<p>100 rows × 7 columns</p>\n",
              "</div>"
            ],
            "text/plain": [
              "    Temperature (K)  Luminosity(L/Lo)  ...  Spectral Class  Star type\n",
              "0              3068          0.002400  ...               5          0\n",
              "1              3042          0.000500  ...               5          0\n",
              "2              2600          0.000300  ...               5          0\n",
              "3              2800          0.000200  ...               5          0\n",
              "4              1939          0.000138  ...               5          0\n",
              "..              ...               ...  ...             ...        ...\n",
              "95            11250        672.000000  ...               0          3\n",
              "96             5112          0.630000  ...               4          3\n",
              "97             7720          7.920000  ...               2          3\n",
              "98            12098        689.000000  ...               0          3\n",
              "99            36108     198000.000000  ...               6          3\n",
              "\n",
              "[100 rows x 7 columns]"
            ]
          },
          "metadata": {},
          "execution_count": 74
        }
      ]
    },
    {
      "cell_type": "markdown",
      "metadata": {
        "id": "WOIhdIZgfKE2"
      },
      "source": [
        "# Implementing K-NN: "
      ]
    },
    {
      "cell_type": "markdown",
      "metadata": {
        "id": "rWOVqHq3hZ9M"
      },
      "source": [
        "Feature selection: "
      ]
    },
    {
      "cell_type": "code",
      "metadata": {
        "id": "w7zfKnCTkCnE"
      },
      "source": [
        "x = dataset.iloc[:, 0: 6].values\n",
        "y = dataset.iloc[:, -1].values"
      ],
      "execution_count": null,
      "outputs": []
    },
    {
      "cell_type": "markdown",
      "metadata": {
        "id": "FbKz299eml1F"
      },
      "source": [
        "Splitting dataset:"
      ]
    },
    {
      "cell_type": "code",
      "metadata": {
        "id": "uJEY_nVtgMUd"
      },
      "source": [
        "from sklearn.model_selection import train_test_split\n",
        "x_train, x_test, y_train, y_test = train_test_split(x, y, test_size = 0.20)"
      ],
      "execution_count": null,
      "outputs": []
    },
    {
      "cell_type": "code",
      "metadata": {
        "colab": {
          "base_uri": "https://localhost:8080/"
        },
        "id": "3TXiurkJ7zZh",
        "outputId": "cef9bc81-1c84-450f-9a10-8a9d0fb049ef"
      },
      "source": [
        "print(x_train)"
      ],
      "execution_count": null,
      "outputs": [
        {
          "output_type": "stream",
          "name": "stdout",
          "text": [
            "[[ 3.3240e+03  3.4000e-03  3.4000e-01  1.2230e+01  1.0000e+01  5.0000e+00]\n",
            " [ 1.8000e+04  2.0000e+05  1.0450e+03 -8.3000e+00  0.0000e+00  6.0000e+00]\n",
            " [ 3.0950e+03  1.9000e-04  4.9200e-01  1.0870e+01  1.0000e+01  5.0000e+00]\n",
            " ...\n",
            " [ 1.4060e+04  1.0920e+03  5.7450e+00 -2.0400e+00  6.0000e+00  0.0000e+00]\n",
            " [ 1.2984e+04  8.8000e-04  9.9600e-03  1.1230e+01  2.0000e+00  1.0000e+00]\n",
            " [ 3.0000e+04  2.8840e+04  6.3000e+00 -4.2000e+00  6.0000e+00  1.0000e+00]]\n"
          ]
        }
      ]
    },
    {
      "cell_type": "markdown",
      "metadata": {
        "id": "Kh85OaK-hosv"
      },
      "source": [
        "Scaling data:"
      ]
    },
    {
      "cell_type": "code",
      "metadata": {
        "id": "PfQ-nfzHhqvn"
      },
      "source": [
        "from sklearn.preprocessing import StandardScaler\n",
        "scaler = StandardScaler()\n",
        "scaler.fit(x_train)\n",
        "x_train = scaler.transform(x_train)\n",
        "x_test = scaler.transform(x_test)"
      ],
      "execution_count": null,
      "outputs": []
    },
    {
      "cell_type": "markdown",
      "metadata": {
        "id": "Nwx5hE4Lm_c-"
      },
      "source": [
        "Applying K-NN:"
      ]
    },
    {
      "cell_type": "code",
      "metadata": {
        "colab": {
          "base_uri": "https://localhost:8080/"
        },
        "id": "eP9esrqvkO2y",
        "outputId": "51191dac-880a-40ef-a10c-a0600fd1b60b"
      },
      "source": [
        "from sklearn.neighbors import KNeighborsClassifier\n",
        "classifier = KNeighborsClassifier(n_neighbors=5)\n",
        "classifier.fit(x_train, y_train)"
      ],
      "execution_count": null,
      "outputs": [
        {
          "output_type": "execute_result",
          "data": {
            "text/plain": [
              "KNeighborsClassifier(algorithm='auto', leaf_size=30, metric='minkowski',\n",
              "                     metric_params=None, n_jobs=None, n_neighbors=5, p=2,\n",
              "                     weights='uniform')"
            ]
          },
          "metadata": {},
          "execution_count": 79
        }
      ]
    },
    {
      "cell_type": "code",
      "metadata": {
        "id": "OZqtD522FLyp"
      },
      "source": [
        "y_pred = classifier.predict(x_test)"
      ],
      "execution_count": null,
      "outputs": []
    },
    {
      "cell_type": "markdown",
      "metadata": {
        "id": "MXceXO6ZsFsc"
      },
      "source": [
        "Classification report of K-NN:"
      ]
    },
    {
      "cell_type": "code",
      "metadata": {
        "colab": {
          "base_uri": "https://localhost:8080/"
        },
        "id": "Yn_Oa2h3Fhii",
        "outputId": "13f67ab6-cba8-481d-e0c3-aada5d5bf80c"
      },
      "source": [
        "from sklearn.metrics import classification_report, confusion_matrix, accuracy_score\n",
        "print(classification_report(y_test, y_pred))"
      ],
      "execution_count": null,
      "outputs": [
        {
          "output_type": "stream",
          "name": "stdout",
          "text": [
            "              precision    recall  f1-score   support\n",
            "\n",
            "           0       1.00      1.00      1.00        11\n",
            "           1       0.90      1.00      0.95         9\n",
            "           2       0.83      1.00      0.91         5\n",
            "           3       0.88      0.78      0.82         9\n",
            "           4       1.00      0.86      0.92         7\n",
            "           5       1.00      1.00      1.00         7\n",
            "\n",
            "    accuracy                           0.94        48\n",
            "   macro avg       0.93      0.94      0.93        48\n",
            "weighted avg       0.94      0.94      0.94        48\n",
            "\n"
          ]
        }
      ]
    },
    {
      "cell_type": "markdown",
      "metadata": {
        "id": "LEbDCzfYsO9a"
      },
      "source": [
        "Confusion matrix for K-NN:"
      ]
    },
    {
      "cell_type": "code",
      "metadata": {
        "colab": {
          "base_uri": "https://localhost:8080/"
        },
        "id": "GWDErPA8raij",
        "outputId": "f248c176-5919-41a1-b07a-6b4bb2b0fa9b"
      },
      "source": [
        "print(confusion_matrix(y_test, y_pred))"
      ],
      "execution_count": null,
      "outputs": [
        {
          "output_type": "stream",
          "name": "stdout",
          "text": [
            "[[11  0  0  0  0  0]\n",
            " [ 0  9  0  0  0  0]\n",
            " [ 0  0  5  0  0  0]\n",
            " [ 0  1  1  7  0  0]\n",
            " [ 0  0  0  1  6  0]\n",
            " [ 0  0  0  0  0  7]]\n"
          ]
        }
      ]
    },
    {
      "cell_type": "markdown",
      "metadata": {
        "id": "dGQjoBSCsU2k"
      },
      "source": [
        "Accuracy achived with K-NN:"
      ]
    },
    {
      "cell_type": "code",
      "metadata": {
        "colab": {
          "base_uri": "https://localhost:8080/"
        },
        "id": "yn4U7lyTrgSx",
        "outputId": "a0ddc0a1-e300-444e-e18e-f354353e3aac"
      },
      "source": [
        "print(accuracy_score(y_test, y_pred))"
      ],
      "execution_count": null,
      "outputs": [
        {
          "output_type": "stream",
          "name": "stdout",
          "text": [
            "0.9375\n"
          ]
        }
      ]
    },
    {
      "cell_type": "code",
      "metadata": {
        "id": "_nTG1ov3tC-j"
      },
      "source": [
        "accuracy_knn = accuracy_score(y_test, y_pred)"
      ],
      "execution_count": null,
      "outputs": []
    },
    {
      "cell_type": "markdown",
      "metadata": {
        "id": "pyiCpIXMQ3jl"
      },
      "source": [
        "# Implementing Decision Tree:"
      ]
    },
    {
      "cell_type": "code",
      "metadata": {
        "id": "XNm374_0Q7-B"
      },
      "source": [
        "from sklearn.tree import DecisionTreeClassifier # Importing Decision Tree Classifier\n",
        "from sklearn.model_selection import train_test_split # Importing train_test_split function\n",
        "from sklearn import metrics #Importing scikit-learn metrics module for accuracy calculation"
      ],
      "execution_count": null,
      "outputs": []
    },
    {
      "cell_type": "markdown",
      "metadata": {
        "id": "yE0yJqjltUwC"
      },
      "source": [
        "Preprocessing is already performed."
      ]
    },
    {
      "cell_type": "code",
      "metadata": {
        "colab": {
          "base_uri": "https://localhost:8080/",
          "height": 295
        },
        "id": "7OWUAGWxRK5c",
        "outputId": "9cdfe767-91c4-45f3-fc62-a101f20ba781"
      },
      "source": [
        "dataset2 = dataset\n",
        "dataset2.head(8)"
      ],
      "execution_count": null,
      "outputs": [
        {
          "output_type": "execute_result",
          "data": {
            "text/html": [
              "<div>\n",
              "<style scoped>\n",
              "    .dataframe tbody tr th:only-of-type {\n",
              "        vertical-align: middle;\n",
              "    }\n",
              "\n",
              "    .dataframe tbody tr th {\n",
              "        vertical-align: top;\n",
              "    }\n",
              "\n",
              "    .dataframe thead th {\n",
              "        text-align: right;\n",
              "    }\n",
              "</style>\n",
              "<table border=\"1\" class=\"dataframe\">\n",
              "  <thead>\n",
              "    <tr style=\"text-align: right;\">\n",
              "      <th></th>\n",
              "      <th>Temperature (K)</th>\n",
              "      <th>Luminosity(L/Lo)</th>\n",
              "      <th>Radius(R/Ro)</th>\n",
              "      <th>Absolute magnitude(Mv)</th>\n",
              "      <th>Star color</th>\n",
              "      <th>Spectral Class</th>\n",
              "      <th>Star type</th>\n",
              "    </tr>\n",
              "  </thead>\n",
              "  <tbody>\n",
              "    <tr>\n",
              "      <th>0</th>\n",
              "      <td>3068</td>\n",
              "      <td>0.002400</td>\n",
              "      <td>0.1700</td>\n",
              "      <td>16.12</td>\n",
              "      <td>10</td>\n",
              "      <td>5</td>\n",
              "      <td>0</td>\n",
              "    </tr>\n",
              "    <tr>\n",
              "      <th>1</th>\n",
              "      <td>3042</td>\n",
              "      <td>0.000500</td>\n",
              "      <td>0.1542</td>\n",
              "      <td>16.60</td>\n",
              "      <td>10</td>\n",
              "      <td>5</td>\n",
              "      <td>0</td>\n",
              "    </tr>\n",
              "    <tr>\n",
              "      <th>2</th>\n",
              "      <td>2600</td>\n",
              "      <td>0.000300</td>\n",
              "      <td>0.1020</td>\n",
              "      <td>18.70</td>\n",
              "      <td>10</td>\n",
              "      <td>5</td>\n",
              "      <td>0</td>\n",
              "    </tr>\n",
              "    <tr>\n",
              "      <th>3</th>\n",
              "      <td>2800</td>\n",
              "      <td>0.000200</td>\n",
              "      <td>0.1600</td>\n",
              "      <td>16.65</td>\n",
              "      <td>10</td>\n",
              "      <td>5</td>\n",
              "      <td>0</td>\n",
              "    </tr>\n",
              "    <tr>\n",
              "      <th>4</th>\n",
              "      <td>1939</td>\n",
              "      <td>0.000138</td>\n",
              "      <td>0.1030</td>\n",
              "      <td>20.06</td>\n",
              "      <td>10</td>\n",
              "      <td>5</td>\n",
              "      <td>0</td>\n",
              "    </tr>\n",
              "    <tr>\n",
              "      <th>5</th>\n",
              "      <td>2840</td>\n",
              "      <td>0.000650</td>\n",
              "      <td>0.1100</td>\n",
              "      <td>16.98</td>\n",
              "      <td>10</td>\n",
              "      <td>5</td>\n",
              "      <td>0</td>\n",
              "    </tr>\n",
              "    <tr>\n",
              "      <th>6</th>\n",
              "      <td>2637</td>\n",
              "      <td>0.000730</td>\n",
              "      <td>0.1270</td>\n",
              "      <td>17.22</td>\n",
              "      <td>10</td>\n",
              "      <td>5</td>\n",
              "      <td>0</td>\n",
              "    </tr>\n",
              "    <tr>\n",
              "      <th>7</th>\n",
              "      <td>2600</td>\n",
              "      <td>0.000400</td>\n",
              "      <td>0.0960</td>\n",
              "      <td>17.40</td>\n",
              "      <td>10</td>\n",
              "      <td>5</td>\n",
              "      <td>0</td>\n",
              "    </tr>\n",
              "  </tbody>\n",
              "</table>\n",
              "</div>"
            ],
            "text/plain": [
              "   Temperature (K)  Luminosity(L/Lo)  ...  Spectral Class  Star type\n",
              "0             3068          0.002400  ...               5          0\n",
              "1             3042          0.000500  ...               5          0\n",
              "2             2600          0.000300  ...               5          0\n",
              "3             2800          0.000200  ...               5          0\n",
              "4             1939          0.000138  ...               5          0\n",
              "5             2840          0.000650  ...               5          0\n",
              "6             2637          0.000730  ...               5          0\n",
              "7             2600          0.000400  ...               5          0\n",
              "\n",
              "[8 rows x 7 columns]"
            ]
          },
          "metadata": {},
          "execution_count": 86
        }
      ]
    },
    {
      "cell_type": "markdown",
      "metadata": {
        "id": "NT1U1BrAtc47"
      },
      "source": [
        "Renaming the columns:"
      ]
    },
    {
      "cell_type": "code",
      "metadata": {
        "id": "2F2MRx-dRcxx"
      },
      "source": [
        "dataset2 = dataset.rename(columns = {'Temperature (K)': 'temp', 'Luminosity(L/Lo)': 'lumi', 'Radius(R/Ro)' : 'rad', 'Absolute magnitude(Mv)' : 'abm',\n",
        "                                      'Star color' : 'color', 'Spectral Class' : 'class', 'Star type' : 'type'}, inplace = False)"
      ],
      "execution_count": null,
      "outputs": []
    },
    {
      "cell_type": "code",
      "metadata": {
        "colab": {
          "base_uri": "https://localhost:8080/",
          "height": 417
        },
        "id": "mU24IhB2V4Hh",
        "outputId": "4337f417-052d-45f0-e9fd-2dd6097e2839"
      },
      "source": [
        "dataset2"
      ],
      "execution_count": null,
      "outputs": [
        {
          "output_type": "execute_result",
          "data": {
            "text/html": [
              "<div>\n",
              "<style scoped>\n",
              "    .dataframe tbody tr th:only-of-type {\n",
              "        vertical-align: middle;\n",
              "    }\n",
              "\n",
              "    .dataframe tbody tr th {\n",
              "        vertical-align: top;\n",
              "    }\n",
              "\n",
              "    .dataframe thead th {\n",
              "        text-align: right;\n",
              "    }\n",
              "</style>\n",
              "<table border=\"1\" class=\"dataframe\">\n",
              "  <thead>\n",
              "    <tr style=\"text-align: right;\">\n",
              "      <th></th>\n",
              "      <th>temp</th>\n",
              "      <th>lumi</th>\n",
              "      <th>rad</th>\n",
              "      <th>abm</th>\n",
              "      <th>color</th>\n",
              "      <th>class</th>\n",
              "      <th>type</th>\n",
              "    </tr>\n",
              "  </thead>\n",
              "  <tbody>\n",
              "    <tr>\n",
              "      <th>0</th>\n",
              "      <td>3068</td>\n",
              "      <td>0.002400</td>\n",
              "      <td>0.1700</td>\n",
              "      <td>16.12</td>\n",
              "      <td>10</td>\n",
              "      <td>5</td>\n",
              "      <td>0</td>\n",
              "    </tr>\n",
              "    <tr>\n",
              "      <th>1</th>\n",
              "      <td>3042</td>\n",
              "      <td>0.000500</td>\n",
              "      <td>0.1542</td>\n",
              "      <td>16.60</td>\n",
              "      <td>10</td>\n",
              "      <td>5</td>\n",
              "      <td>0</td>\n",
              "    </tr>\n",
              "    <tr>\n",
              "      <th>2</th>\n",
              "      <td>2600</td>\n",
              "      <td>0.000300</td>\n",
              "      <td>0.1020</td>\n",
              "      <td>18.70</td>\n",
              "      <td>10</td>\n",
              "      <td>5</td>\n",
              "      <td>0</td>\n",
              "    </tr>\n",
              "    <tr>\n",
              "      <th>3</th>\n",
              "      <td>2800</td>\n",
              "      <td>0.000200</td>\n",
              "      <td>0.1600</td>\n",
              "      <td>16.65</td>\n",
              "      <td>10</td>\n",
              "      <td>5</td>\n",
              "      <td>0</td>\n",
              "    </tr>\n",
              "    <tr>\n",
              "      <th>4</th>\n",
              "      <td>1939</td>\n",
              "      <td>0.000138</td>\n",
              "      <td>0.1030</td>\n",
              "      <td>20.06</td>\n",
              "      <td>10</td>\n",
              "      <td>5</td>\n",
              "      <td>0</td>\n",
              "    </tr>\n",
              "    <tr>\n",
              "      <th>...</th>\n",
              "      <td>...</td>\n",
              "      <td>...</td>\n",
              "      <td>...</td>\n",
              "      <td>...</td>\n",
              "      <td>...</td>\n",
              "      <td>...</td>\n",
              "      <td>...</td>\n",
              "    </tr>\n",
              "    <tr>\n",
              "      <th>235</th>\n",
              "      <td>38940</td>\n",
              "      <td>374830.000000</td>\n",
              "      <td>1356.0000</td>\n",
              "      <td>-9.93</td>\n",
              "      <td>0</td>\n",
              "      <td>6</td>\n",
              "      <td>5</td>\n",
              "    </tr>\n",
              "    <tr>\n",
              "      <th>236</th>\n",
              "      <td>30839</td>\n",
              "      <td>834042.000000</td>\n",
              "      <td>1194.0000</td>\n",
              "      <td>-10.63</td>\n",
              "      <td>0</td>\n",
              "      <td>6</td>\n",
              "      <td>5</td>\n",
              "    </tr>\n",
              "    <tr>\n",
              "      <th>237</th>\n",
              "      <td>8829</td>\n",
              "      <td>537493.000000</td>\n",
              "      <td>1423.0000</td>\n",
              "      <td>-10.73</td>\n",
              "      <td>11</td>\n",
              "      <td>0</td>\n",
              "      <td>5</td>\n",
              "    </tr>\n",
              "    <tr>\n",
              "      <th>238</th>\n",
              "      <td>9235</td>\n",
              "      <td>404940.000000</td>\n",
              "      <td>1112.0000</td>\n",
              "      <td>-11.23</td>\n",
              "      <td>11</td>\n",
              "      <td>0</td>\n",
              "      <td>5</td>\n",
              "    </tr>\n",
              "    <tr>\n",
              "      <th>239</th>\n",
              "      <td>37882</td>\n",
              "      <td>294903.000000</td>\n",
              "      <td>1783.0000</td>\n",
              "      <td>-7.80</td>\n",
              "      <td>0</td>\n",
              "      <td>6</td>\n",
              "      <td>5</td>\n",
              "    </tr>\n",
              "  </tbody>\n",
              "</table>\n",
              "<p>240 rows × 7 columns</p>\n",
              "</div>"
            ],
            "text/plain": [
              "      temp           lumi        rad    abm  color  class  type\n",
              "0     3068       0.002400     0.1700  16.12     10      5     0\n",
              "1     3042       0.000500     0.1542  16.60     10      5     0\n",
              "2     2600       0.000300     0.1020  18.70     10      5     0\n",
              "3     2800       0.000200     0.1600  16.65     10      5     0\n",
              "4     1939       0.000138     0.1030  20.06     10      5     0\n",
              "..     ...            ...        ...    ...    ...    ...   ...\n",
              "235  38940  374830.000000  1356.0000  -9.93      0      6     5\n",
              "236  30839  834042.000000  1194.0000 -10.63      0      6     5\n",
              "237   8829  537493.000000  1423.0000 -10.73     11      0     5\n",
              "238   9235  404940.000000  1112.0000 -11.23     11      0     5\n",
              "239  37882  294903.000000  1783.0000  -7.80      0      6     5\n",
              "\n",
              "[240 rows x 7 columns]"
            ]
          },
          "metadata": {},
          "execution_count": 88
        }
      ]
    },
    {
      "cell_type": "markdown",
      "metadata": {
        "id": "ulOXEyrgtj_l"
      },
      "source": [
        "Feature selection:"
      ]
    },
    {
      "cell_type": "code",
      "metadata": {
        "id": "ZDmkQmNtTDOC"
      },
      "source": [
        "feature_cols = ['temp', 'lumi', 'rad', 'abm', 'color', 'class']\n",
        "x = dataset2[feature_cols]\n",
        "y = dataset2.type"
      ],
      "execution_count": null,
      "outputs": []
    },
    {
      "cell_type": "markdown",
      "metadata": {
        "id": "J82MNlsKWsB0"
      },
      "source": [
        "Function for calculating the entropy of the column:"
      ]
    },
    {
      "cell_type": "code",
      "metadata": {
        "id": "EWkHWY-zfgg8"
      },
      "source": [
        "def entropy(col):\n",
        "    counts = np.unique(col,return_counts=True)\n",
        "    ent = 0.0\n",
        "    for ix in counts[1]:\n",
        "        p = ix/col.shape[0]\n",
        "        ent += (-1.0*p*np.log2(p))\n",
        "    return ent"
      ],
      "execution_count": null,
      "outputs": []
    },
    {
      "cell_type": "markdown",
      "metadata": {
        "id": "Pi8-LhDXt7-7"
      },
      "source": [
        "Function for dividing the data:"
      ]
    },
    {
      "cell_type": "code",
      "metadata": {
        "id": "lNCkbR-KflmY"
      },
      "source": [
        "def divide_data(x_data,fkey,fval):\n",
        "    x_right = pd.DataFrame([],columns=x_data.columns)\n",
        "    x_left = pd.DataFrame([],columns=x_data.columns)\n",
        "    for ix in range(x_data.shape[0]):\n",
        "        val = x_data[fkey].loc[ix]\n",
        "        if val >=fval:\n",
        "            x_right = x_right.append(x_data.iloc[ix])\n",
        "        else:\n",
        "            x_left = x_left.append(x_data.iloc[ix])\n",
        "    return x_right,x_left"
      ],
      "execution_count": null,
      "outputs": []
    },
    {
      "cell_type": "markdown",
      "metadata": {
        "id": "tCcOSB9muKQz"
      },
      "source": [
        "Function for calculating the information gain:"
      ]
    },
    {
      "cell_type": "code",
      "metadata": {
        "id": "bSHWge0Dfr5o"
      },
      "source": [
        "def information_gain(x_data,fkey,fval):\n",
        "    right,left = divide_data(x_data,fkey,fval)\n",
        "    \n",
        "    l = float(left.shape[0])/x_data.shape[0]\n",
        "    r = float(right.shape[0])/x_data.shape[0]\n",
        "    if left.shape[0] == 0 or right.shape[0] == 0:\n",
        "        return -99999\n",
        "    i_gain = entropy(x_data.type) - (l * entropy(left.type) + r*entropy(right.type))\n",
        "    return i_gain"
      ],
      "execution_count": null,
      "outputs": []
    },
    {
      "cell_type": "markdown",
      "metadata": {
        "id": "msRkI3YZd7ci"
      },
      "source": [
        "Decision Tree class:"
      ]
    },
    {
      "cell_type": "code",
      "metadata": {
        "id": "g0ZRwM9Qf-yM"
      },
      "source": [
        "class DecisionTree:\n",
        "    def __init__(self,depth=0,max_depth=5):\n",
        "        self.left = None\n",
        "        self.right = None\n",
        "        self.fkey = None\n",
        "        self.fval = None\n",
        "        self.depth = depth\n",
        "        self.max_depth = max_depth\n",
        "        self.target = None\n",
        "    def train(self,x_train):\n",
        "        features = ['temp', 'lumi', 'rad', 'abm', 'color', 'class']\n",
        "        info_gains = []\n",
        "        for ix in features:\n",
        "            i_gain = information_gain(x_train,ix,x_train[ix].mean())\n",
        "            info_gains.append(i_gain)\n",
        "        self.fkey = features[np.argmax(info_gains)]\n",
        "        self.fval = x_train[self.fkey].mean()\n",
        "        print(\"Splitting Tree\",self.fkey)\n",
        "        data_right,data_left = divide_data(x_train,self.fkey,self.fval)\n",
        "        data_right = data_right.reset_index(drop=True)\n",
        "        data_left = data_left.reset_index(drop=True)\n",
        "        if data_left.shape[0] == 0 or data_right.shape[0] == 0:\n",
        "            if x_train.type.mean() >= 0.5:\n",
        "                self.target = \"Positive\"\n",
        "            else:\n",
        "                self.target = \"Negative\"\n",
        "            return\n",
        "        if self.depth >= self.max_depth:\n",
        "            if x_train.type.mean() >= 0.5:\n",
        "                self.target = \"Positive\"\n",
        "            else:\n",
        "                self.target = \"Negative\"\n",
        "            return\n",
        "        self.left = DecisionTree(self.depth+1,self.max_depth)\n",
        "        self.left.train(data_left)\n",
        "        self.right = DecisionTree(self.depth+1,self.max_depth)\n",
        "        self.right.train(data_right)\n",
        "        if x_train.type.mean() >= 0.5:\n",
        "            self.target = \"Positive\"\n",
        "        else:\n",
        "            self.target = \"Negative\"\n",
        "        return\n",
        "    def predict(self,test):\n",
        "        if test[self.fkey] > self.fval:\n",
        "            if self.right is None:\n",
        "                return self.target\n",
        "            return self.right.predict(test)\n",
        "        if test[self.fkey] < self.fval:\n",
        "            if self.left is None:\n",
        "                return self.target\n",
        "            return self.left.predict(test)"
      ],
      "execution_count": null,
      "outputs": []
    },
    {
      "cell_type": "markdown",
      "metadata": {
        "id": "qzR2Q1kauXNX"
      },
      "source": [
        "Spliting the dataset into training data and testing data."
      ]
    },
    {
      "cell_type": "code",
      "metadata": {
        "id": "K4L0o-1egOiL"
      },
      "source": [
        "split = int(0.7*dataset2.shape[0])\n",
        "train_data = dataset2[:split]\n",
        "test_data = dataset2[split:]\n",
        "test_data= test_data.reset_index(drop=True)"
      ],
      "execution_count": null,
      "outputs": []
    },
    {
      "cell_type": "markdown",
      "metadata": {
        "id": "n2XWdZbhudMq"
      },
      "source": [
        "Object of DecisionTree Class"
      ]
    },
    {
      "cell_type": "code",
      "metadata": {
        "id": "sEzMAp8Agd-S"
      },
      "source": [
        "dt = DecisionTree()"
      ],
      "execution_count": null,
      "outputs": []
    },
    {
      "cell_type": "markdown",
      "metadata": {
        "id": "2oVlKCuaytfs"
      },
      "source": [
        "Training data:"
      ]
    },
    {
      "cell_type": "code",
      "metadata": {
        "colab": {
          "base_uri": "https://localhost:8080/"
        },
        "id": "2xx1mhmrghI4",
        "outputId": "0366c17a-b5dc-4813-d344-8f565d2fc9d9"
      },
      "source": [
        "dt.train(train_data)"
      ],
      "execution_count": null,
      "outputs": [
        {
          "output_type": "stream",
          "name": "stdout",
          "text": [
            "Splitting Tree abm\n",
            "Splitting Tree abm\n",
            "Splitting Tree rad\n",
            "Splitting Tree temp\n",
            "Splitting Tree temp\n",
            "Splitting Tree temp\n",
            "Splitting Tree temp\n",
            "Splitting Tree temp\n",
            "Splitting Tree temp\n",
            "Splitting Tree temp\n",
            "Splitting Tree temp\n",
            "Splitting Tree temp\n",
            "Splitting Tree temp\n",
            "Splitting Tree temp\n",
            "Splitting Tree temp\n",
            "Splitting Tree temp\n",
            "Splitting Tree temp\n",
            "Splitting Tree rad\n",
            "Splitting Tree temp\n",
            "Splitting Tree temp\n",
            "Splitting Tree temp\n",
            "Splitting Tree temp\n",
            "Splitting Tree temp\n",
            "Splitting Tree temp\n",
            "Splitting Tree temp\n",
            "Splitting Tree temp\n",
            "Splitting Tree temp\n",
            "Splitting Tree temp\n",
            "Splitting Tree temp\n",
            "Splitting Tree temp\n",
            "Splitting Tree temp\n",
            "Splitting Tree abm\n",
            "Splitting Tree color\n",
            "Splitting Tree temp\n",
            "Splitting Tree temp\n",
            "Splitting Tree temp\n",
            "Splitting Tree temp\n",
            "Splitting Tree temp\n",
            "Splitting Tree temp\n",
            "Splitting Tree rad\n",
            "Splitting Tree temp\n",
            "Splitting Tree temp\n",
            "Splitting Tree temp\n",
            "Splitting Tree lumi\n",
            "Splitting Tree temp\n",
            "Splitting Tree abm\n",
            "Splitting Tree temp\n",
            "Splitting Tree temp\n",
            "Splitting Tree temp\n",
            "Splitting Tree temp\n",
            "Splitting Tree temp\n",
            "Splitting Tree temp\n",
            "Splitting Tree temp\n",
            "Splitting Tree temp\n",
            "Splitting Tree temp\n",
            "Splitting Tree temp\n",
            "Splitting Tree temp\n",
            "Splitting Tree temp\n",
            "Splitting Tree temp\n",
            "Splitting Tree temp\n",
            "Splitting Tree temp\n"
          ]
        }
      ]
    },
    {
      "cell_type": "code",
      "metadata": {
        "id": "3GVJouqcg2JW"
      },
      "source": [
        "y_pred = []\n",
        "for ix in range(test_data.shape[0]):\n",
        "    y_pred.append(dt.predict(test_data.loc[ix]))"
      ],
      "execution_count": null,
      "outputs": []
    },
    {
      "cell_type": "code",
      "metadata": {
        "colab": {
          "base_uri": "https://localhost:8080/"
        },
        "id": "c8f9Ob7LorQq",
        "outputId": "c8e94494-11c6-49e0-c7dc-b78f3330982c"
      },
      "source": [
        "y_pred[:10]"
      ],
      "execution_count": null,
      "outputs": [
        {
          "output_type": "execute_result",
          "data": {
            "text/plain": [
              "['Positive',\n",
              " 'Positive',\n",
              " 'Positive',\n",
              " 'Positive',\n",
              " 'Positive',\n",
              " 'Positive',\n",
              " 'Positive',\n",
              " 'Positive',\n",
              " 'Positive',\n",
              " 'Positive']"
            ]
          },
          "metadata": {},
          "execution_count": 98
        }
      ]
    },
    {
      "cell_type": "code",
      "metadata": {
        "id": "7NP8pG5SooTF"
      },
      "source": [
        "for i in range(len(y_pred)):\n",
        "    if y_pred[i] == \"Negative\":\n",
        "        y_pred[i] = 0\n",
        "    else:\n",
        "        y_pred[i] = 1"
      ],
      "execution_count": null,
      "outputs": []
    },
    {
      "cell_type": "code",
      "metadata": {
        "colab": {
          "base_uri": "https://localhost:8080/"
        },
        "id": "0Vb_PqyKg8C2",
        "outputId": "e5654041-0406-415f-906a-03a8860b6ebb"
      },
      "source": [
        "np.mean(y_pred == test_data['type'])"
      ],
      "execution_count": null,
      "outputs": [
        {
          "output_type": "execute_result",
          "data": {
            "text/plain": [
              "0.2638888888888889"
            ]
          },
          "metadata": {},
          "execution_count": 100
        }
      ]
    },
    {
      "cell_type": "code",
      "metadata": {
        "id": "qXTdeFngo0ZS"
      },
      "source": [
        "from sklearn.tree import DecisionTreeClassifier"
      ],
      "execution_count": null,
      "outputs": []
    },
    {
      "cell_type": "code",
      "metadata": {
        "id": "5fwZjOoio3gh"
      },
      "source": [
        "features = ['temp', 'lumi', 'rad', 'abm', 'color', 'class']"
      ],
      "execution_count": null,
      "outputs": []
    },
    {
      "cell_type": "code",
      "metadata": {
        "id": "XBOCp6ygo6kB"
      },
      "source": [
        "sk_tree = DecisionTreeClassifier()"
      ],
      "execution_count": null,
      "outputs": []
    },
    {
      "cell_type": "code",
      "metadata": {
        "colab": {
          "base_uri": "https://localhost:8080/"
        },
        "id": "WFqiBKbPo-zW",
        "outputId": "dcdaab2f-8349-4e41-852a-18bd27dd3398"
      },
      "source": [
        "sk_tree.fit(train_data[features],train_data[\"type\"])"
      ],
      "execution_count": null,
      "outputs": [
        {
          "output_type": "execute_result",
          "data": {
            "text/plain": [
              "DecisionTreeClassifier(ccp_alpha=0.0, class_weight=None, criterion='gini',\n",
              "                       max_depth=None, max_features=None, max_leaf_nodes=None,\n",
              "                       min_impurity_decrease=0.0, min_impurity_split=None,\n",
              "                       min_samples_leaf=1, min_samples_split=2,\n",
              "                       min_weight_fraction_leaf=0.0, presort='deprecated',\n",
              "                       random_state=None, splitter='best')"
            ]
          },
          "metadata": {},
          "execution_count": 104
        }
      ]
    },
    {
      "cell_type": "code",
      "metadata": {
        "colab": {
          "base_uri": "https://localhost:8080/"
        },
        "id": "SPQXG1m8pC6q",
        "outputId": "f4bb9f4b-5bc0-477b-d507-2f0d6760528a"
      },
      "source": [
        "sk_tree.predict(test_data[features])"
      ],
      "execution_count": null,
      "outputs": [
        {
          "output_type": "execute_result",
          "data": {
            "text/plain": [
              "array([4, 4, 5, 5, 5, 5, 5, 5, 5, 5, 5, 5, 0, 0, 0, 0, 0, 0, 0, 0, 0, 0,\n",
              "       1, 1, 1, 1, 1, 1, 1, 1, 1, 1, 2, 2, 2, 2, 2, 2, 2, 2, 2, 2, 3, 3,\n",
              "       3, 3, 3, 3, 3, 3, 3, 3, 4, 4, 4, 4, 4, 4, 4, 4, 4, 4, 5, 5, 5, 5,\n",
              "       5, 5, 5, 5, 5, 5])"
            ]
          },
          "metadata": {},
          "execution_count": 105
        }
      ]
    },
    {
      "cell_type": "code",
      "metadata": {
        "colab": {
          "base_uri": "https://localhost:8080/"
        },
        "id": "GLt5nxBQpHLH",
        "outputId": "abb988f6-c934-4a79-dd74-89cd5eb6b3a4"
      },
      "source": [
        "sk_tree.score(test_data[features],test_data[\"type\"])"
      ],
      "execution_count": null,
      "outputs": [
        {
          "output_type": "execute_result",
          "data": {
            "text/plain": [
              "1.0"
            ]
          },
          "metadata": {},
          "execution_count": 106
        }
      ]
    },
    {
      "cell_type": "markdown",
      "metadata": {
        "id": "G_YAHMp2cxpL"
      },
      "source": [
        "Splitting dataset into training set and testing set:"
      ]
    },
    {
      "cell_type": "code",
      "metadata": {
        "id": "Zb1ki6HSWxhJ"
      },
      "source": [
        "X_train, X_test, y_train, y_test = train_test_split(x, y, test_size=0.2, random_state=1) # 80% training and 20% testing"
      ],
      "execution_count": null,
      "outputs": []
    },
    {
      "cell_type": "markdown",
      "metadata": {
        "id": "gi7TK4l9XJCJ"
      },
      "source": [
        "Creating Decision Tree classifer object:"
      ]
    },
    {
      "cell_type": "code",
      "metadata": {
        "id": "PRrCLkl4XLmM"
      },
      "source": [
        "clf = DecisionTreeClassifier()"
      ],
      "execution_count": null,
      "outputs": []
    },
    {
      "cell_type": "markdown",
      "metadata": {
        "id": "GVhU_zaMXUhM"
      },
      "source": [
        "Training Decision Tree Classifer:"
      ]
    },
    {
      "cell_type": "code",
      "metadata": {
        "id": "2FPIQy1OXaG_"
      },
      "source": [
        "clf = clf.fit(X_train,y_train)"
      ],
      "execution_count": null,
      "outputs": []
    },
    {
      "cell_type": "markdown",
      "metadata": {
        "id": "4zlyQDhLXhLI"
      },
      "source": [
        "Predicting the response for test dataset:"
      ]
    },
    {
      "cell_type": "code",
      "metadata": {
        "id": "ILGps9R1Xm3P"
      },
      "source": [
        "y_pred = clf.predict(X_test)"
      ],
      "execution_count": null,
      "outputs": []
    },
    {
      "cell_type": "markdown",
      "metadata": {
        "id": "h3TRT3K9X0W4"
      },
      "source": [
        "Classification report for Decision Tree:"
      ]
    },
    {
      "cell_type": "code",
      "metadata": {
        "colab": {
          "base_uri": "https://localhost:8080/"
        },
        "id": "cMk2PJmOYd40",
        "outputId": "5a012314-1fa3-4000-b0f9-b91468a7d28c"
      },
      "source": [
        "print(metrics.classification_report(y_test, y_pred))"
      ],
      "execution_count": null,
      "outputs": [
        {
          "output_type": "stream",
          "name": "stdout",
          "text": [
            "              precision    recall  f1-score   support\n",
            "\n",
            "           0       1.00      1.00      1.00         6\n",
            "           1       1.00      1.00      1.00         5\n",
            "           2       1.00      1.00      1.00         8\n",
            "           3       1.00      1.00      1.00        13\n",
            "           4       1.00      1.00      1.00         6\n",
            "           5       1.00      1.00      1.00        10\n",
            "\n",
            "    accuracy                           1.00        48\n",
            "   macro avg       1.00      1.00      1.00        48\n",
            "weighted avg       1.00      1.00      1.00        48\n",
            "\n"
          ]
        }
      ]
    },
    {
      "cell_type": "markdown",
      "metadata": {
        "id": "xpJ1A753zShp"
      },
      "source": [
        "Confusion matrix for Decision Tree:"
      ]
    },
    {
      "cell_type": "code",
      "metadata": {
        "colab": {
          "base_uri": "https://localhost:8080/"
        },
        "id": "R-gXABYbYwEU",
        "outputId": "d943dc2d-f5a1-4c97-f946-bca416a54e1c"
      },
      "source": [
        "print(metrics.confusion_matrix(y_test, y_pred))"
      ],
      "execution_count": null,
      "outputs": [
        {
          "output_type": "stream",
          "name": "stdout",
          "text": [
            "[[ 6  0  0  0  0  0]\n",
            " [ 0  5  0  0  0  0]\n",
            " [ 0  0  8  0  0  0]\n",
            " [ 0  0  0 13  0  0]\n",
            " [ 0  0  0  0  6  0]\n",
            " [ 0  0  0  0  0 10]]\n"
          ]
        }
      ]
    },
    {
      "cell_type": "markdown",
      "metadata": {
        "id": "_uSd0q3bzbu0"
      },
      "source": [
        "Accuracy with Decision Tree:"
      ]
    },
    {
      "cell_type": "code",
      "metadata": {
        "colab": {
          "base_uri": "https://localhost:8080/"
        },
        "id": "KwsiEy-1X2tq",
        "outputId": "604442a8-00fc-4fdb-a254-5c78995dacf4"
      },
      "source": [
        "print(\"Accuracy:\",metrics.accuracy_score(y_test, y_pred))"
      ],
      "execution_count": null,
      "outputs": [
        {
          "output_type": "stream",
          "name": "stdout",
          "text": [
            "Accuracy: 1.0\n"
          ]
        }
      ]
    },
    {
      "cell_type": "code",
      "metadata": {
        "id": "hzY1GifORJTy"
      },
      "source": [
        "accuacy_dt = metrics.accuracy_score(y_test, y_pred)"
      ],
      "execution_count": null,
      "outputs": []
    },
    {
      "cell_type": "markdown",
      "metadata": {
        "id": "BvjOGbq5ZBhb"
      },
      "source": [
        "# Naive Bayes Classifier:"
      ]
    },
    {
      "cell_type": "code",
      "metadata": {
        "id": "CJ_ZceKm3b8B"
      },
      "source": [
        "from sklearn.naive_bayes import GaussianNB"
      ],
      "execution_count": null,
      "outputs": []
    },
    {
      "cell_type": "markdown",
      "metadata": {
        "id": "s3fo1ZerSztP"
      },
      "source": [
        "Preprocessing is already performed:"
      ]
    },
    {
      "cell_type": "code",
      "metadata": {
        "colab": {
          "base_uri": "https://localhost:8080/",
          "height": 234
        },
        "id": "ozxCfq2XZoli",
        "outputId": "4607d648-6fc8-45ee-a50a-6c8531e26712"
      },
      "source": [
        "dataset3 = dataset2\n",
        "dataset3.head(6)"
      ],
      "execution_count": null,
      "outputs": [
        {
          "output_type": "execute_result",
          "data": {
            "text/html": [
              "<div>\n",
              "<style scoped>\n",
              "    .dataframe tbody tr th:only-of-type {\n",
              "        vertical-align: middle;\n",
              "    }\n",
              "\n",
              "    .dataframe tbody tr th {\n",
              "        vertical-align: top;\n",
              "    }\n",
              "\n",
              "    .dataframe thead th {\n",
              "        text-align: right;\n",
              "    }\n",
              "</style>\n",
              "<table border=\"1\" class=\"dataframe\">\n",
              "  <thead>\n",
              "    <tr style=\"text-align: right;\">\n",
              "      <th></th>\n",
              "      <th>temp</th>\n",
              "      <th>lumi</th>\n",
              "      <th>rad</th>\n",
              "      <th>abm</th>\n",
              "      <th>color</th>\n",
              "      <th>class</th>\n",
              "      <th>type</th>\n",
              "    </tr>\n",
              "  </thead>\n",
              "  <tbody>\n",
              "    <tr>\n",
              "      <th>0</th>\n",
              "      <td>3068</td>\n",
              "      <td>0.002400</td>\n",
              "      <td>0.1700</td>\n",
              "      <td>16.12</td>\n",
              "      <td>10</td>\n",
              "      <td>5</td>\n",
              "      <td>0</td>\n",
              "    </tr>\n",
              "    <tr>\n",
              "      <th>1</th>\n",
              "      <td>3042</td>\n",
              "      <td>0.000500</td>\n",
              "      <td>0.1542</td>\n",
              "      <td>16.60</td>\n",
              "      <td>10</td>\n",
              "      <td>5</td>\n",
              "      <td>0</td>\n",
              "    </tr>\n",
              "    <tr>\n",
              "      <th>2</th>\n",
              "      <td>2600</td>\n",
              "      <td>0.000300</td>\n",
              "      <td>0.1020</td>\n",
              "      <td>18.70</td>\n",
              "      <td>10</td>\n",
              "      <td>5</td>\n",
              "      <td>0</td>\n",
              "    </tr>\n",
              "    <tr>\n",
              "      <th>3</th>\n",
              "      <td>2800</td>\n",
              "      <td>0.000200</td>\n",
              "      <td>0.1600</td>\n",
              "      <td>16.65</td>\n",
              "      <td>10</td>\n",
              "      <td>5</td>\n",
              "      <td>0</td>\n",
              "    </tr>\n",
              "    <tr>\n",
              "      <th>4</th>\n",
              "      <td>1939</td>\n",
              "      <td>0.000138</td>\n",
              "      <td>0.1030</td>\n",
              "      <td>20.06</td>\n",
              "      <td>10</td>\n",
              "      <td>5</td>\n",
              "      <td>0</td>\n",
              "    </tr>\n",
              "    <tr>\n",
              "      <th>5</th>\n",
              "      <td>2840</td>\n",
              "      <td>0.000650</td>\n",
              "      <td>0.1100</td>\n",
              "      <td>16.98</td>\n",
              "      <td>10</td>\n",
              "      <td>5</td>\n",
              "      <td>0</td>\n",
              "    </tr>\n",
              "  </tbody>\n",
              "</table>\n",
              "</div>"
            ],
            "text/plain": [
              "   temp      lumi     rad    abm  color  class  type\n",
              "0  3068  0.002400  0.1700  16.12     10      5     0\n",
              "1  3042  0.000500  0.1542  16.60     10      5     0\n",
              "2  2600  0.000300  0.1020  18.70     10      5     0\n",
              "3  2800  0.000200  0.1600  16.65     10      5     0\n",
              "4  1939  0.000138  0.1030  20.06     10      5     0\n",
              "5  2840  0.000650  0.1100  16.98     10      5     0"
            ]
          },
          "metadata": {},
          "execution_count": 116
        }
      ]
    },
    {
      "cell_type": "markdown",
      "metadata": {
        "id": "uDjRN5ORVgOh"
      },
      "source": [
        "Feature selection:"
      ]
    },
    {
      "cell_type": "code",
      "metadata": {
        "id": "-1jwrtbBqYqa"
      },
      "source": [
        "predictors = dataset3.drop('type', axis = 'columns')\n",
        "target = dataset3.type"
      ],
      "execution_count": null,
      "outputs": []
    },
    {
      "cell_type": "code",
      "metadata": {
        "colab": {
          "base_uri": "https://localhost:8080/",
          "height": 203
        },
        "id": "wSdIdyRnqfTq",
        "outputId": "cce921bb-accc-4bfe-9bed-c2019ecb686b"
      },
      "source": [
        "predictors.abm = predictors.abm.fillna(predictors.abm.mean())\n",
        "predictors.head()"
      ],
      "execution_count": null,
      "outputs": [
        {
          "output_type": "execute_result",
          "data": {
            "text/html": [
              "<div>\n",
              "<style scoped>\n",
              "    .dataframe tbody tr th:only-of-type {\n",
              "        vertical-align: middle;\n",
              "    }\n",
              "\n",
              "    .dataframe tbody tr th {\n",
              "        vertical-align: top;\n",
              "    }\n",
              "\n",
              "    .dataframe thead th {\n",
              "        text-align: right;\n",
              "    }\n",
              "</style>\n",
              "<table border=\"1\" class=\"dataframe\">\n",
              "  <thead>\n",
              "    <tr style=\"text-align: right;\">\n",
              "      <th></th>\n",
              "      <th>temp</th>\n",
              "      <th>lumi</th>\n",
              "      <th>rad</th>\n",
              "      <th>abm</th>\n",
              "      <th>color</th>\n",
              "      <th>class</th>\n",
              "    </tr>\n",
              "  </thead>\n",
              "  <tbody>\n",
              "    <tr>\n",
              "      <th>0</th>\n",
              "      <td>3068</td>\n",
              "      <td>0.002400</td>\n",
              "      <td>0.1700</td>\n",
              "      <td>16.12</td>\n",
              "      <td>10</td>\n",
              "      <td>5</td>\n",
              "    </tr>\n",
              "    <tr>\n",
              "      <th>1</th>\n",
              "      <td>3042</td>\n",
              "      <td>0.000500</td>\n",
              "      <td>0.1542</td>\n",
              "      <td>16.60</td>\n",
              "      <td>10</td>\n",
              "      <td>5</td>\n",
              "    </tr>\n",
              "    <tr>\n",
              "      <th>2</th>\n",
              "      <td>2600</td>\n",
              "      <td>0.000300</td>\n",
              "      <td>0.1020</td>\n",
              "      <td>18.70</td>\n",
              "      <td>10</td>\n",
              "      <td>5</td>\n",
              "    </tr>\n",
              "    <tr>\n",
              "      <th>3</th>\n",
              "      <td>2800</td>\n",
              "      <td>0.000200</td>\n",
              "      <td>0.1600</td>\n",
              "      <td>16.65</td>\n",
              "      <td>10</td>\n",
              "      <td>5</td>\n",
              "    </tr>\n",
              "    <tr>\n",
              "      <th>4</th>\n",
              "      <td>1939</td>\n",
              "      <td>0.000138</td>\n",
              "      <td>0.1030</td>\n",
              "      <td>20.06</td>\n",
              "      <td>10</td>\n",
              "      <td>5</td>\n",
              "    </tr>\n",
              "  </tbody>\n",
              "</table>\n",
              "</div>"
            ],
            "text/plain": [
              "   temp      lumi     rad    abm  color  class\n",
              "0  3068  0.002400  0.1700  16.12     10      5\n",
              "1  3042  0.000500  0.1542  16.60     10      5\n",
              "2  2600  0.000300  0.1020  18.70     10      5\n",
              "3  2800  0.000200  0.1600  16.65     10      5\n",
              "4  1939  0.000138  0.1030  20.06     10      5"
            ]
          },
          "metadata": {},
          "execution_count": 118
        }
      ]
    },
    {
      "cell_type": "markdown",
      "metadata": {
        "id": "U7g7ia5LVmEr"
      },
      "source": [
        "Dividing dataset in training set and testing set:"
      ]
    },
    {
      "cell_type": "code",
      "metadata": {
        "id": "seSxvF0QqjiN"
      },
      "source": [
        "from sklearn.model_selection import train_test_split\n",
        "X_train, X_test, y_train, y_test = train_test_split(predictors,target,test_size=0.25)"
      ],
      "execution_count": null,
      "outputs": []
    },
    {
      "cell_type": "markdown",
      "metadata": {
        "id": "5j2IP-ImVzx3"
      },
      "source": [
        "Applying Naive Bayes classifier:"
      ]
    },
    {
      "cell_type": "code",
      "metadata": {
        "colab": {
          "base_uri": "https://localhost:8080/"
        },
        "id": "NE0FIzoFqoQr",
        "outputId": "bc07a27f-79d1-40d3-b967-b77ab610d9db"
      },
      "source": [
        "from sklearn.naive_bayes import GaussianNB\n",
        "model = GaussianNB()\n",
        "model.fit(X_train,y_train)\n",
        "model.score(X_test,y_test) #the gauge the accuracy"
      ],
      "execution_count": null,
      "outputs": [
        {
          "output_type": "execute_result",
          "data": {
            "text/plain": [
              "0.8833333333333333"
            ]
          },
          "metadata": {},
          "execution_count": 120
        }
      ]
    },
    {
      "cell_type": "code",
      "metadata": {
        "colab": {
          "base_uri": "https://localhost:8080/"
        },
        "id": "IesI5l4J25Kg",
        "outputId": "f5538e59-4a0b-410e-b0fd-26a64eaa5ed8"
      },
      "source": [
        "GausNB = GaussianNB()\n",
        "GausNB.fit(X_train, y_train)\n",
        "print(GausNB)\n",
        "\n",
        "y_pred = GausNB.predict(X_test)"
      ],
      "execution_count": null,
      "outputs": [
        {
          "output_type": "stream",
          "name": "stdout",
          "text": [
            "GaussianNB(priors=None, var_smoothing=1e-09)\n"
          ]
        }
      ]
    },
    {
      "cell_type": "markdown",
      "metadata": {
        "id": "GZIf2qNbX1EF"
      },
      "source": [
        "Classification report for Naive Bayes classifier:"
      ]
    },
    {
      "cell_type": "code",
      "metadata": {
        "colab": {
          "base_uri": "https://localhost:8080/"
        },
        "id": "JIU0Fl4AWTyI",
        "outputId": "52ab73e7-5518-4558-dec1-72edf588947e"
      },
      "source": [
        "print(classification_report(y_test, y_pred))"
      ],
      "execution_count": null,
      "outputs": [
        {
          "output_type": "stream",
          "name": "stdout",
          "text": [
            "              precision    recall  f1-score   support\n",
            "\n",
            "           0       0.83      0.56      0.67         9\n",
            "           1       0.60      0.86      0.71         7\n",
            "           2       0.80      1.00      0.89         8\n",
            "           3       1.00      0.78      0.88         9\n",
            "           4       1.00      1.00      1.00        11\n",
            "           5       1.00      1.00      1.00        16\n",
            "\n",
            "    accuracy                           0.88        60\n",
            "   macro avg       0.87      0.87      0.86        60\n",
            "weighted avg       0.90      0.88      0.88        60\n",
            "\n"
          ]
        }
      ]
    },
    {
      "cell_type": "markdown",
      "metadata": {
        "id": "y2gtQhzrX_yI"
      },
      "source": [
        "Confusion matrix for Naive Bayes Classifier:"
      ]
    },
    {
      "cell_type": "code",
      "metadata": {
        "colab": {
          "base_uri": "https://localhost:8080/"
        },
        "id": "YH6WBbpRWc4t",
        "outputId": "19351676-07e9-4412-b9f4-04c4876dc394"
      },
      "source": [
        "print(confusion_matrix(y_test, y_pred))"
      ],
      "execution_count": null,
      "outputs": [
        {
          "output_type": "stream",
          "name": "stdout",
          "text": [
            "[[ 5  3  1  0  0  0]\n",
            " [ 1  6  0  0  0  0]\n",
            " [ 0  0  8  0  0  0]\n",
            " [ 0  1  1  7  0  0]\n",
            " [ 0  0  0  0 11  0]\n",
            " [ 0  0  0  0  0 16]]\n"
          ]
        }
      ]
    },
    {
      "cell_type": "markdown",
      "metadata": {
        "id": "tZbU597CYLsM"
      },
      "source": [
        "Accuracy with Naive Bayes Classifier:"
      ]
    },
    {
      "cell_type": "code",
      "metadata": {
        "colab": {
          "base_uri": "https://localhost:8080/"
        },
        "id": "5TDOCsJLWnSu",
        "outputId": "16c72969-b6d0-41f8-920e-5ec8781eb197"
      },
      "source": [
        "print(accuracy_score(y_test, y_pred))"
      ],
      "execution_count": null,
      "outputs": [
        {
          "output_type": "stream",
          "name": "stdout",
          "text": [
            "0.8833333333333333\n"
          ]
        }
      ]
    },
    {
      "cell_type": "code",
      "metadata": {
        "id": "sv3hDw2rYTSQ"
      },
      "source": [
        "accuracy_NB = accuracy_score(y_test, y_pred)"
      ],
      "execution_count": null,
      "outputs": []
    },
    {
      "cell_type": "markdown",
      "metadata": {
        "id": "t1QMu43eYcwH"
      },
      "source": [
        "# Accuracy comparison of K-NN, Decision Tree and Naive Bayes Classifier:"
      ]
    },
    {
      "cell_type": "code",
      "metadata": {
        "colab": {
          "base_uri": "https://localhost:8080/",
          "height": 295
        },
        "id": "kmj2n83GYo2A",
        "outputId": "a9808255-e9f3-4581-e81f-542c4955bfe7"
      },
      "source": [
        "height = [accuracy_knn, accuacy_dt, accuracy_NB]\n",
        "bars = ('K-NN', 'Decision Tree', 'Naive Bayes',)\n",
        "x_pos = np.arange(len(bars))\n",
        "plt.bar(x_pos, height, color=['red', 'green', 'cyan'])\n",
        "plt.title('Accuracy comparison of classifier models:')\n",
        "plt.xlabel('Models:')\n",
        "plt.ylabel('Accuracy score:')\n",
        "plt.xticks(x_pos, bars)\n",
        "plt.show()"
      ],
      "execution_count": null,
      "outputs": [
        {
          "output_type": "display_data",
          "data": {
            "image/png": "[encoded data removed]",
            "text/plain": [
              "<Figure size 432x288 with 1 Axes>"
            ]
          },
          "metadata": {
            "needs_background": "light"
          }
        }
      ]
    }
  ]
}